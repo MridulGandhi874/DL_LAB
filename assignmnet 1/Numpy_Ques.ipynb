{
 "cells": [
  {
   "cell_type": "markdown",
   "metadata": {
    "id": "5YNIISPploTY"
   },
   "source": [
    "_____\n",
    "**Write a program to create an array [10, 5, 7, 20, 15, -9, 33], print it, Find the maximum and minimum Value of the array**"
   ]
  },
  {
   "cell_type": "code",
   "metadata": {
    "id": "LGwQ0y0wloTY",
    "ExecuteTime": {
     "end_time": "2025-08-05T14:36:58.831312Z",
     "start_time": "2025-08-05T14:36:57.423602Z"
    }
   },
   "source": [
    "#Code here\n",
    "import numpy as np\n",
    "\n",
    "arr = np.array([10, 5, 7, 20, 15, -9, 33])\n",
    "print(\"Array:\", arr)\n",
    "print(\"Maximum Value:\", np.max(arr))\n",
    "print(\"Minimum Value:\", np.min(arr))"
   ],
   "outputs": [
    {
     "name": "stdout",
     "output_type": "stream",
     "text": [
      "Array: [10  5  7 20 15 -9 33]\n",
      "Maximum Value: 33\n",
      "Minimum Value: -9\n"
     ]
    }
   ],
   "execution_count": 1
  },
  {
   "cell_type": "markdown",
   "metadata": {
    "id": "CjKQrl4ZloTY"
   },
   "source": [
    "______\n",
    "**Write a program to accept an array of elements and find the maximum without using max function**"
   ]
  },
  {
   "cell_type": "code",
   "metadata": {
    "id": "jFqGo32uloTY",
    "ExecuteTime": {
     "end_time": "2025-08-05T14:37:24.804714Z",
     "start_time": "2025-08-05T14:37:12.191630Z"
    }
   },
   "source": [
    "#Code here\n",
    "arr2 = list(map(int, input(\"Enter array elements separated by space: \").split()))\n",
    "max_val = arr2[0]\n",
    "for num in arr2:\n",
    "    if num > max_val:\n",
    "        max_val = num\n",
    "print(\"Maximum value without using max():\", max_val)"
   ],
   "outputs": [
    {
     "name": "stdout",
     "output_type": "stream",
     "text": [
      "Maximum value without using max(): 34\n"
     ]
    }
   ],
   "execution_count": 3
  },
  {
   "cell_type": "markdown",
   "metadata": {
    "id": "V1Tbn_avloTY"
   },
   "source": [
    "___\n",
    "**Write a program to accept two matrices [[1,2],[3,4]],   [[2,4],[6,8]]and find the sum and subtraction of two matrices**"
   ]
  },
  {
   "cell_type": "code",
   "metadata": {
    "id": "jyu705aKloTZ",
    "ExecuteTime": {
     "end_time": "2025-08-05T14:37:42.323267Z",
     "start_time": "2025-08-05T14:37:42.311403Z"
    }
   },
   "source": [
    "#Code here\n",
    "A = np.array([[1, 2], [3, 4]])\n",
    "B = np.array([[2, 4], [6, 8]])\n",
    "\n",
    "sum_matrix = A + B\n",
    "diff_matrix = A - B\n",
    "\n",
    "print(\"Matrix A:\\n\", A)\n",
    "print(\"Matrix B:\\n\", B)\n",
    "print(\"Sum of Matrices:\\n\", sum_matrix)\n",
    "print(\"Subtraction of Matrices:\\n\", diff_matrix)\n"
   ],
   "outputs": [
    {
     "name": "stdout",
     "output_type": "stream",
     "text": [
      "Matrix A:\n",
      " [[1 2]\n",
      " [3 4]]\n",
      "Matrix B:\n",
      " [[2 4]\n",
      " [6 8]]\n",
      "Sum of Matrices:\n",
      " [[ 3  6]\n",
      " [ 9 12]]\n",
      "Subtraction of Matrices:\n",
      " [[-1 -2]\n",
      " [-3 -4]]\n"
     ]
    }
   ],
   "execution_count": 4
  },
  {
   "cell_type": "markdown",
   "metadata": {
    "id": "e8iqIwlxloTZ"
   },
   "source": [
    "___\n",
    "**Write a program to generate a ranodom matrix of size 5 X 6. Add another row containing random elements to it. Find the sum of each row.**"
   ]
  },
  {
   "cell_type": "code",
   "metadata": {
    "id": "RFvvJzj3loTZ",
    "ExecuteTime": {
     "end_time": "2025-08-05T14:37:55.221567Z",
     "start_time": "2025-08-05T14:37:55.214148Z"
    }
   },
   "source": [
    "#Code here\n",
    "matrix = np.random.randint(1, 50, (5, 6))\n",
    "new_row = np.random.randint(1, 50, (1, 6))\n",
    "updated_matrix = np.vstack((matrix, new_row))\n",
    "row_sums = np.sum(updated_matrix, axis=1)\n",
    "\n",
    "print(\"Original Matrix:\\n\", matrix)\n",
    "print(\"New Row:\\n\", new_row)\n",
    "print(\"Updated Matrix:\\n\", updated_matrix)\n",
    "print(\"Sum of Each Row:\", row_sums)"
   ],
   "outputs": [
    {
     "name": "stdout",
     "output_type": "stream",
     "text": [
      "Original Matrix:\n",
      " [[11 24  8 10 19 32]\n",
      " [39 36 45 16 21 36]\n",
      " [33 23  4 46 12 19]\n",
      " [14  9  8  4 36 22]\n",
      " [26 42 49 10  9 10]]\n",
      "New Row:\n",
      " [[15  8 42 31 12 49]]\n",
      "Updated Matrix:\n",
      " [[11 24  8 10 19 32]\n",
      " [39 36 45 16 21 36]\n",
      " [33 23  4 46 12 19]\n",
      " [14  9  8  4 36 22]\n",
      " [26 42 49 10  9 10]\n",
      " [15  8 42 31 12 49]]\n",
      "Sum of Each Row: [104 193 137  93 146 157]\n"
     ]
    }
   ],
   "execution_count": 5
  },
  {
   "cell_type": "markdown",
   "metadata": {
    "id": "CIhpDElPloTZ"
   },
   "source": [
    "___\n",
    "**Write a program to generate a ranodm integer matrix of size 5 X 6. Add another column containing random integers to it. Compute the sine of each element and print it**"
   ]
  },
  {
   "cell_type": "code",
   "metadata": {
    "id": "HXJgYMTDloTZ",
    "ExecuteTime": {
     "end_time": "2025-08-05T14:38:07.289092Z",
     "start_time": "2025-08-05T14:38:07.281689Z"
    }
   },
   "source": [
    "#Code here\n",
    "matrix = np.random.randint(1, 50, (5, 6))\n",
    "new_col = np.random.randint(1, 50, (5, 1))\n",
    "updated_matrix = np.hstack((matrix, new_col))\n",
    "sine_matrix = np.sin(updated_matrix)\n",
    "\n",
    "print(\"Original Matrix:\\n\", matrix)\n",
    "print(\"New Column:\\n\", new_col)\n",
    "print(\"Updated Matrix:\\n\", updated_matrix)\n",
    "print(\"Sine of Each Element:\\n\", sine_matrix)\n"
   ],
   "outputs": [
    {
     "name": "stdout",
     "output_type": "stream",
     "text": [
      "Original Matrix:\n",
      " [[28  5 46  5 10 29]\n",
      " [19 28 17 20  3 31]\n",
      " [21 36 20 32 44 21]\n",
      " [31 31 20 38 16  9]\n",
      " [35 29 37 24  8 29]]\n",
      "New Column:\n",
      " [[20]\n",
      " [35]\n",
      " [38]\n",
      " [ 4]\n",
      " [36]]\n",
      "Updated Matrix:\n",
      " [[28  5 46  5 10 29 20]\n",
      " [19 28 17 20  3 31 35]\n",
      " [21 36 20 32 44 21 38]\n",
      " [31 31 20 38 16  9  4]\n",
      " [35 29 37 24  8 29 36]]\n",
      "Sine of Each Element:\n",
      " [[ 0.27090579 -0.95892427  0.90178835 -0.95892427 -0.54402111 -0.66363388\n",
      "   0.91294525]\n",
      " [ 0.14987721  0.27090579 -0.96139749  0.91294525  0.14112001 -0.40403765\n",
      "  -0.42818267]\n",
      " [ 0.83665564 -0.99177885  0.91294525  0.55142668  0.01770193  0.83665564\n",
      "   0.29636858]\n",
      " [-0.40403765 -0.40403765  0.91294525  0.29636858 -0.28790332  0.41211849\n",
      "  -0.7568025 ]\n",
      " [-0.42818267 -0.66363388 -0.64353813 -0.90557836  0.98935825 -0.66363388\n",
      "  -0.99177885]]\n"
     ]
    }
   ],
   "execution_count": 6
  },
  {
   "cell_type": "markdown",
   "metadata": {
    "id": "-St006l8loTZ"
   },
   "source": [
    "___\n",
    "**Write a program to generate a ranodm matrix of size 5 X 6. Consider the 3rd and 4th row; and 2nd, 3rd and 4th column and print the resultant matrix using slicing**"
   ]
  },
  {
   "cell_type": "code",
   "metadata": {
    "id": "SUSwF0zRloTZ",
    "ExecuteTime": {
     "end_time": "2025-08-05T14:38:18.892390Z",
     "start_time": "2025-08-05T14:38:18.887816Z"
    }
   },
   "source": [
    "#Code here\n",
    "matrix = np.random.randint(1, 100, (5, 6))\n",
    "sliced_matrix = matrix[2:4, 1:4]\n",
    "\n",
    "print(\"Original Matrix:\\n\", matrix)\n",
    "print(\"Sliced Matrix (3rd & 4th row, 2nd to 4th col):\\n\", sliced_matrix)"
   ],
   "outputs": [
    {
     "name": "stdout",
     "output_type": "stream",
     "text": [
      "Original Matrix:\n",
      " [[ 6 45 99 26 55 71]\n",
      " [53 35 90 90  2 78]\n",
      " [59 71 19 71 61  3]\n",
      " [89 40 40 34 82 96]\n",
      " [72 28 83 48 29 49]]\n",
      "Sliced Matrix (3rd & 4th row, 2nd to 4th col):\n",
      " [[71 19 71]\n",
      " [40 40 34]]\n"
     ]
    }
   ],
   "execution_count": 7
  },
  {
   "cell_type": "markdown",
   "metadata": {
    "id": "np6xZQWTloTa"
   },
   "source": [
    "### Great Job!"
   ]
  }
 ],
 "metadata": {
  "kernelspec": {
   "display_name": "Python 3 (ipykernel)",
   "language": "python",
   "name": "python3"
  },
  "language_info": {
   "codemirror_mode": {
    "name": "ipython",
    "version": 3
   },
   "file_extension": ".py",
   "mimetype": "text/x-python",
   "name": "python",
   "nbconvert_exporter": "python",
   "pygments_lexer": "ipython3",
   "version": "3.11.7"
  },
  "colab": {
   "provenance": []
  }
 },
 "nbformat": 4,
 "nbformat_minor": 0
}
